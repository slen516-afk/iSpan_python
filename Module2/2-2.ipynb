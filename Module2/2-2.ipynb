{
 "cells": [
  {
   "cell_type": "code",
   "execution_count": 22,
   "id": "b5e0652f",
   "metadata": {},
   "outputs": [
    {
     "name": "stdout",
     "output_type": "stream",
     "text": [
      "{\"NAME\": \"RYAN\", \"RESIDUE\": \"NEW TAIPEI CITY\"}\n"
     ]
    }
   ],
   "source": [
    "import json\n",
    "a={\"NAME\":\"RYAN\",\n",
    "   \"RESIDUE\":\"NEW TAIPEI CITY\"}\n",
    "y=json.dumps(a)\n",
    "print(y)\n"
   ]
  },
  {
   "cell_type": "code",
   "execution_count": null,
   "id": "e64db18c",
   "metadata": {},
   "outputs": [
    {
     "name": "stdout",
     "output_type": "stream",
     "text": [
      "{\"Taiwan\": \"Taipei\", \"USA\": \"Detroit\", \"China\": \"Bejing\"}\n"
     ]
    }
   ],
   "source": [
    "my_dict={\"Taiwan\":\"Taipei\",\n",
    "         \"USA\":\"Detroit\",\n",
    "         \"China\":\"Bejing\"}\n",
    "# print(my_dict.get(\"China\"))\n",
    "a=json.dumps(my_dict)\n",
    "print(a)"
   ]
  },
  {
   "cell_type": "code",
   "execution_count": 10,
   "id": "a7c0ddf6",
   "metadata": {},
   "outputs": [
    {
     "name": "stdout",
     "output_type": "stream",
     "text": [
      "100\n"
     ]
    }
   ],
   "source": [
    "MAX_SIZE = 100\n",
    "print(MAX_SIZE)\n",
    "#全大寫通常視為常數(不可改變的變數)"
   ]
  },
  {
   "cell_type": "code",
   "execution_count": null,
   "id": "7a94140e",
   "metadata": {},
   "outputs": [],
   "source": [
    "class=\"\" #class是關鍵字"
   ]
  },
  {
   "cell_type": "code",
   "execution_count": null,
   "id": "020a1f86",
   "metadata": {},
   "outputs": [
    {
     "name": "stdout",
     "output_type": "stream",
     "text": [
      "1\n",
      "2\n",
      "3\n",
      "4\n",
      "5\n",
      "6\n",
      "7\n",
      "8\n",
      "9\n",
      "10\n"
     ]
    }
   ],
   "source": [
    "for a in range(1,11):\n",
    "    print(a)\n",
    "\n",
    "\n",
    "#Ctrl+shift+P選Reload window=重啟vsc\n",
    "# ctrl+enter 執行cell\n",
    "#往下新增cell->B\n",
    "#alt+shift+方向鍵向下=複製\n",
    "#跳出cell->Esc,進入cell->Enter\n",
    "#刪除cell->x\n",
    "#往上新增cell->A"
   ]
  },
  {
   "cell_type": "code",
   "execution_count": 7,
   "id": "a89e50b6",
   "metadata": {},
   "outputs": [
    {
     "name": "stdout",
     "output_type": "stream",
     "text": [
      "name\n"
     ]
    }
   ],
   "source": [
    "def none():\n",
    "    print(\"name\")\n",
    "none()"
   ]
  }
 ],
 "metadata": {
  "kernelspec": {
   "display_name": "Python 3",
   "language": "python",
   "name": "python3"
  },
  "language_info": {
   "codemirror_mode": {
    "name": "ipython",
    "version": 3
   },
   "file_extension": ".py",
   "mimetype": "text/x-python",
   "name": "python",
   "nbconvert_exporter": "python",
   "pygments_lexer": "ipython3",
   "version": "3.14.0"
  }
 },
 "nbformat": 4,
 "nbformat_minor": 5
}
