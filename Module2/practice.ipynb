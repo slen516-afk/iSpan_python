{
 "cells": [
  {
   "cell_type": "markdown",
   "metadata": {},
   "source": [
    "百貨公司周年慶 消費金額超過 2000 要折 200  \n",
    "\n",
    "請撰寫一支程式  \n",
    "計算客戶消費的結帳金額"
   ]
  },
  {
   "cell_type": "code",
   "execution_count": null,
   "metadata": {},
   "outputs": [],
   "source": [
    "a = int(input(\"Enter a num:\"))\n",
    "if a > 2000:\n",
    "    a-=200"
   ]
  },
  {
   "cell_type": "code",
   "execution_count": 2,
   "metadata": {},
   "outputs": [
    {
     "name": "stdout",
     "output_type": "stream",
     "text": [
      "2300\n"
     ]
    }
   ],
   "source": [
    "a = int(input(\"Enter a num:\"))\n",
    "\n",
    "if a > 2000:\n",
    "    a -= 200\n",
    "\n",
    "print(a)    "
   ]
  },
  {
   "cell_type": "code",
   "execution_count": null,
   "metadata": {},
   "outputs": [
    {
     "name": "stdout",
     "output_type": "stream",
     "text": [
      "6100\n"
     ]
    }
   ],
   "source": [
    "# 滿4000折400滿6000折600\n",
    "a = int(input(\"Enter a num:\"))\n",
    "#順序很重要\n",
    "if a > 6000:\n",
    "    a -= 600\n",
    "elif a > 4000:\n",
    "    a -= 400\n",
    "\n",
    "print(a)   "
   ]
  },
  {
   "cell_type": "code",
   "execution_count": null,
   "metadata": {},
   "outputs": [
    {
     "name": "stdout",
     "output_type": "stream",
     "text": [
      "結帳金額: 4000\n"
     ]
    }
   ],
   "source": [
    "# 滿4000折400滿6000折600\n",
    "def cal_discount(amount):\n",
    "    if amount > 6000:\n",
    "        amount -= 600\n",
    "    elif amount > 4000:\n",
    "        amount -= 400\n",
    "    return amount\n",
    "a = int(input(\"Enter price:\"))\n",
    "print(\"結帳金額:\",cal_discount(a))\n",
    "# elif要在前面不成立才會跳到下一個"
   ]
  },
  {
   "cell_type": "code",
   "execution_count": null,
   "metadata": {},
   "outputs": [],
   "source": []
  }
 ],
 "metadata": {
  "kernelspec": {
   "display_name": "base",
   "language": "python",
   "name": "python3"
  },
  "language_info": {
   "codemirror_mode": {
    "name": "ipython",
    "version": 3
   },
   "file_extension": ".py",
   "mimetype": "text/x-python",
   "name": "python",
   "nbconvert_exporter": "python",
   "pygments_lexer": "ipython3",
   "version": "3.13.5"
  }
 },
 "nbformat": 4,
 "nbformat_minor": 2
}
